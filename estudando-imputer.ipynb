{
 "cells": [
  {
   "cell_type": "markdown",
   "id": "bf7c9935",
   "metadata": {
    "papermill": {
     "duration": 0.002424,
     "end_time": "2023-05-17T21:56:33.929294",
     "exception": false,
     "start_time": "2023-05-17T21:56:33.926870",
     "status": "completed"
    },
    "tags": []
   },
   "source": [
    "# O que é Imputer?\n",
    "\n",
    "No campo de modelagem de IA, um \"imputer\" refere-se a uma técnica ou função usada para preencher valores ausentes ou faltantes em um conjunto de dados. Valores ausentes são um problema comum em conjuntos de dados do mundo real e podem prejudicar o desempenho e a precisão de um modelo de IA.\n",
    "\n",
    "Um \"imputer\" é usado para estimar e substituir os valores ausentes com base em uma estratégia específica. Existem várias abordagens comumente usadas para lidar com valores ausentes, incluindo:\n",
    "\n",
    "1. Imputação média: Nessa abordagem, os valores ausentes são substituídos pela média dos valores existentes no mesmo atributo ou recurso.\n",
    "\n",
    "2. Imputação mediana: Aqui, os valores ausentes são substituídos pela mediana dos valores existentes no mesmo atributo. A mediana é o valor central quando os dados são ordenados.\n",
    "\n",
    "3. Imputação por moda: Essa abordagem envolve substituir os valores ausentes pela moda, que é o valor mais comum ou frequente no mesmo atributo.\n",
    "\n",
    "4. Imputação por valor constante: Nessa estratégia, os valores ausentes são preenchidos com um valor constante pré-definido, como zero ou -1. Essa abordagem pode ser apropriada em certos casos, mas pode introduzir vieses nos dados.\n",
    "\n",
    "5. Imputação baseada em modelos: Essa técnica envolve o uso de algoritmos de aprendizado de máquina para prever os valores ausentes com base nos valores existentes. Os modelos, como regressão linear, árvores de decisão ou algoritmos mais avançados, podem ser usados para realizar essa imputação.\n",
    "\n",
    "A escolha do método de imputação depende do contexto do problema e das características dos dados. É importante ter cuidado ao lidar com valores ausentes, pois a imputação incorreta pode distorcer os dados e afetar a qualidade e a validade dos resultados do modelo de IA. Portanto, a seleção cuidadosa e a avaliação dos métodos de imputação são essenciais para garantir resultados confiáveis."
   ]
  },
  {
   "cell_type": "markdown",
   "id": "77f21a1e",
   "metadata": {
    "papermill": {
     "duration": 0.001908,
     "end_time": "2023-05-17T21:56:33.933242",
     "exception": false,
     "start_time": "2023-05-17T21:56:33.931334",
     "status": "completed"
    },
    "tags": []
   },
   "source": [
    "# Imputação de recursos univariados¶\n",
    "A aula fornece estratégias básicas para imputar faltas Valores. Os valores ausentes podem ser imputados com um valor constante fornecido ou usando as estatísticas (média, mediana ou mais frequente) de cada coluna em que o os valores ausentes são localizados. Essa classe também permite diferentes valores ausentes Codificações.\n",
    "\n",
    "Parametros de strategy:\n",
    "1. mean\n",
    "2. median\n",
    "3. constant\n",
    "4. most_frequent"
   ]
  },
  {
   "cell_type": "code",
   "execution_count": 1,
   "id": "e15f7b7f",
   "metadata": {
    "execution": {
     "iopub.execute_input": "2023-05-17T21:56:33.938992Z",
     "iopub.status.busy": "2023-05-17T21:56:33.938650Z",
     "iopub.status.idle": "2023-05-17T21:56:34.996507Z",
     "shell.execute_reply": "2023-05-17T21:56:34.995745Z"
    },
    "papermill": {
     "duration": 1.062943,
     "end_time": "2023-05-17T21:56:34.998154",
     "exception": false,
     "start_time": "2023-05-17T21:56:33.935211",
     "status": "completed"
    },
    "tags": []
   },
   "outputs": [
    {
     "name": "stderr",
     "output_type": "stream",
     "text": [
      "/opt/conda/lib/python3.10/site-packages/scipy/__init__.py:146: UserWarning: A NumPy version >=1.16.5 and <1.23.0 is required for this version of SciPy (detected version 1.23.5\n",
      "  warnings.warn(f\"A NumPy version >={np_minversion} and <{np_maxversion}\"\n"
     ]
    },
    {
     "name": "stdout",
     "output_type": "stream",
     "text": [
      "\n",
      "SimpleImputer: \n",
      "[[ 7.   2.   3. ]\n",
      " [ 4.   3.5  6. ]\n",
      " [10.   3.5  9. ]]\n",
      "\n"
     ]
    }
   ],
   "source": [
    "import numpy as np\n",
    "from sklearn.impute import SimpleImputer\n",
    "\n",
    "imp_mean = SimpleImputer(missing_values=np.nan, strategy='mean') #strategy o parametro para escolher que tipo de abordagem o algoritmo irá usar, como media, mediana, mais frequente e constante.\n",
    "imp_mean.fit([[7, 2, 3], [4, np.nan, 6], [10, 5, 9]])\n",
    "\n",
    "X_simple = [[np.nan, 2, 3], [4, np.nan, 6], [10, np.nan, 9]]\n",
    "\n",
    "\n",
    "print(f'\\nSimpleImputer: \\n{imp_mean.transform(X_simple)}\\n')"
   ]
  },
  {
   "cell_type": "markdown",
   "id": "7f5891f7",
   "metadata": {
    "papermill": {
     "duration": 0.00192,
     "end_time": "2023-05-17T21:56:35.002306",
     "exception": false,
     "start_time": "2023-05-17T21:56:35.000386",
     "status": "completed"
    },
    "tags": []
   },
   "source": [
    "# Imputação de características multivariadas\n",
    "Uma abordagem mais sofisticada é usar a classe, que modela cada recurso com valores ausentes em função de outros recursos, e usa essa estimativa para imputação. Ele faz isso em um round-robin iterado Moda: Em cada etapa, uma coluna de recurso é designada como saída e o Outras colunas de recursos são tratadas como entradas. Um regressor é adequado para conhecido . Em seguida, o regressor é usado para prever os valores faltantes de. Isso é feito para cada recurso de forma iterativa e, em seguida, é repetido para rondas de imputação. Os resultados da final A rodada de imputação é devolvida.yX(X, y)yymax_iter"
   ]
  },
  {
   "cell_type": "code",
   "execution_count": 2,
   "id": "ab699837",
   "metadata": {
    "execution": {
     "iopub.execute_input": "2023-05-17T21:56:35.007638Z",
     "iopub.status.busy": "2023-05-17T21:56:35.007337Z",
     "iopub.status.idle": "2023-05-17T21:56:35.046642Z",
     "shell.execute_reply": "2023-05-17T21:56:35.045741Z"
    },
    "papermill": {
     "duration": 0.043967,
     "end_time": "2023-05-17T21:56:35.048289",
     "exception": false,
     "start_time": "2023-05-17T21:56:35.004322",
     "status": "completed"
    },
    "tags": []
   },
   "outputs": [
    {
     "name": "stdout",
     "output_type": "stream",
     "text": [
      "\n",
      "IterativeImputer: \n",
      "[[ 6.95847623  2.          3.        ]\n",
      " [ 4.          2.6000004   6.        ]\n",
      " [10.          4.99999933  9.        ]]\n"
     ]
    }
   ],
   "source": [
    "import numpy as np\n",
    "from sklearn.experimental import enable_iterative_imputer\n",
    "from sklearn.impute import IterativeImputer\n",
    "\n",
    "X_interative = [[np.nan, 2, 3], [4, np.nan, 6], [10, np.nan, 9]]\n",
    "\n",
    "i_imp_mean = IterativeImputer(random_state=0)\n",
    "i_imp_mean.fit([[7, 2, 3], [4, np.nan, 6], [10, 5, 9]])\n",
    "\n",
    "print(f'\\nIterativeImputer: \\n{i_imp_mean.transform(X_interative)}')"
   ]
  },
  {
   "cell_type": "markdown",
   "id": "8046731f",
   "metadata": {
    "papermill": {
     "duration": 0.00198,
     "end_time": "2023-05-17T21:56:35.052497",
     "exception": false,
     "start_time": "2023-05-17T21:56:35.050517",
     "status": "completed"
    },
    "tags": []
   },
   "source": [
    "# Nearest neighbors imputation\n",
    "A classe fornece imputação para preenchimento de valores faltantes usando a abordagem k-Vizinhos mais próximos. Por padrão, uma métrica de distância euclidiana que suporta valores em falta, , é usado para encontrar os vizinhos mais próximos. Cada recurso ausente é imputado usando valores de vizinhos mais próximos que têm um valor para o característica. A característica dos vizinhos é média uniforme ou ponderada por distância para cada vizinho. Se um exemplo tiver mais de um recurso ausente, então Os vizinhos para essa amostra podem ser diferentes dependendo do particular recurso sendo imputado. Quando o número de vizinhos disponíveis é menor do que e não há distâncias definidas para o conjunto de treinamento, o A média do conjunto de treinamento para esse recurso é usada durante a imputação. Se houver em pelo menos um vizinho com distância definida, a média ponderada ou não ponderada dos demais vizinhos serão utilizados durante a imputação. Se um recurso for Sempre ausente nos treinos, ele é retirado durante o . Para mais informações informações sobre a metodologia, ver ref.nan_euclidean_distancesn_neighborsn_neighborstransform\n",
    "\n",
    "O trecho a seguir demonstra como substituir valores ausentes, codificado como , usando o valor médio do recurso dos dois mais próximos vizinhos de amostras com valores faltantes:np.nan"
   ]
  },
  {
   "cell_type": "code",
   "execution_count": 3,
   "id": "9fc1cb69",
   "metadata": {
    "execution": {
     "iopub.execute_input": "2023-05-17T21:56:35.057914Z",
     "iopub.status.busy": "2023-05-17T21:56:35.057372Z",
     "iopub.status.idle": "2023-05-17T21:56:35.067454Z",
     "shell.execute_reply": "2023-05-17T21:56:35.066674Z"
    },
    "papermill": {
     "duration": 0.014499,
     "end_time": "2023-05-17T21:56:35.069092",
     "exception": false,
     "start_time": "2023-05-17T21:56:35.054593",
     "status": "completed"
    },
    "tags": []
   },
   "outputs": [
    {
     "name": "stdout",
     "output_type": "stream",
     "text": [
      "\n",
      "KNNImputer: \n",
      "[[1.  2.  4. ]\n",
      " [3.  4.  3. ]\n",
      " [5.5 6.  5. ]\n",
      " [8.  8.  7. ]]\n"
     ]
    }
   ],
   "source": [
    "import numpy as np\n",
    "from sklearn.impute import KNNImputer\n",
    "imputer = KNNImputer(n_neighbors=2)\n",
    "\n",
    "X = [[1, 2, np.nan], [3, 4, 3], [np.nan, 6, 5], [8, 8, 7]]\n",
    "\n",
    "print(f'\\nKNNImputer: \\n{imputer.fit_transform(X)}')"
   ]
  },
  {
   "cell_type": "markdown",
   "id": "0d6790f6",
   "metadata": {
    "papermill": {
     "duration": 0.002014,
     "end_time": "2023-05-17T21:56:35.073291",
     "exception": false,
     "start_time": "2023-05-17T21:56:35.071277",
     "status": "completed"
    },
    "tags": []
   },
   "source": [
    "Fonte: [https://scikit-learn.org/stable/search.html?q=Imputer](http://)\n",
    "\n",
    "Intro: ChatGPT"
   ]
  }
 ],
 "metadata": {
  "kernelspec": {
   "display_name": "Python 3",
   "language": "python",
   "name": "python3"
  },
  "language_info": {
   "codemirror_mode": {
    "name": "ipython",
    "version": 3
   },
   "file_extension": ".py",
   "mimetype": "text/x-python",
   "name": "python",
   "nbconvert_exporter": "python",
   "pygments_lexer": "ipython3",
   "version": "3.10.10"
  },
  "papermill": {
   "default_parameters": {},
   "duration": 10.459524,
   "end_time": "2023-05-17T21:56:35.793179",
   "environment_variables": {},
   "exception": null,
   "input_path": "__notebook__.ipynb",
   "output_path": "__notebook__.ipynb",
   "parameters": {},
   "start_time": "2023-05-17T21:56:25.333655",
   "version": "2.4.0"
  }
 },
 "nbformat": 4,
 "nbformat_minor": 5
}
